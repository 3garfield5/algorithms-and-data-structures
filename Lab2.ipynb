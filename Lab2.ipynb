{
  "cells": [
    {
      "cell_type": "markdown",
      "id": "fifteen-sailing",
      "metadata": {
        "id": "fifteen-sailing"
      },
      "source": [
        "# Лабораторная работа №2\n",
        "## Выполнил студент группы БВТ2301 Козырев Матвей"
      ]
    },
    {
      "cell_type": "markdown",
      "id": "arctic-stocks",
      "metadata": {
        "id": "arctic-stocks"
      },
      "source": [
        "Реализовать следующие структуры данных:\n",
        "  \n",
        "● <b> Стек (stack): </b>  \n",
        "Операции для стека:\n",
        "<i> инициализация, проверка на пустоту, добавление нового элемента в начало, извлечение элемента из начала;  </i>  \n",
        "  \n",
        "● <b> Дек (двусторонняя очередь, deque):  </b>  \n",
        "Операции для дека:\n",
        "<i> инициализация, проверка на пустоту, добавление нового элемента в начало, добавление нового элемента в конец, извлечение элемента из начала, извлечение элемента из конца. </i>  \n",
        "  \n",
        "<i> Разработать программу обработки данных, содержащихся в заранее подготовленном txt-файле, в соответствии с заданиями, применив указанную в задании структуру данных. Результат работы программы вывести на экран и сохранить в отдельном txt-файле. </i>"
      ]
    },
    {
      "cell_type": "code",
      "source": [
        "# Список названий книг\n",
        "books = [\n",
        "    \"1984 - George Orwell\",\n",
        "    \"To Kill a Mockingbird - Harper Lee\",\n",
        "    \"The Great Gatsby - F. Scott Fitzgerald\",\n",
        "    \"One Hundred Years of Solitude - Gabriel Garcia Marquez\",\n",
        "    \"Brave New World - Aldous Huxley\",\n",
        "    \"The Catcher in the Rye - J.D. Salinger\",\n",
        "    \"Pride and Prejudice - Jane Austen\",\n",
        "    \"The Lord of the Rings - J.R.R. Tolkien\",\n",
        "    \"The Hobbit - J.R.R. Tolkien\",\n",
        "    \"Fahrenheit 451 - Ray Bradbury\",\n",
        "    \"Moby-Dick - Herman Melville\",\n",
        "    \"War and Peace - Leo Tolstoy\",\n",
        "    \"Crime and Punishment - Fyodor Dostoevsky\",\n",
        "    \"The Brothers Karamazov - Fyodor Dostoevsky\",\n",
        "    \"The Odyssey - Homer\",\n",
        "    \"The Iliad - Homer\",\n",
        "    \"Ulysses - James Joyce\",\n",
        "    \"Don Quixote - Miguel de Cervantes\",\n",
        "    \"The Divine Comedy - Dante Alighieri\",\n",
        "    \"The Alchemist - Paulo Coelho\"\n",
        "]\n",
        "\n",
        "# Создание файла и запись названий книг\n",
        "with open('books.txt', 'w', encoding='utf-8') as file:\n",
        "    for book in books:\n",
        "        file.write(book + \"\\n\")\n",
        "\n",
        "print(\"Файл 'books.txt' успешно создан.\")"
      ],
      "metadata": {
        "colab": {
          "base_uri": "https://localhost:8080/"
        },
        "id": "m_3uhDAXlOJI",
        "outputId": "555feb39-7e13-452c-df52-28cafa85d17e"
      },
      "id": "m_3uhDAXlOJI",
      "execution_count": null,
      "outputs": [
        {
          "output_type": "stream",
          "name": "stdout",
          "text": [
            "Файл 'books.txt' успешно создан.\n"
          ]
        }
      ]
    },
    {
      "cell_type": "code",
      "source": [
        "class Stack:\n",
        "    def __init__(self):\n",
        "        self.items = []\n",
        "\n",
        "    def is_empty(self):\n",
        "        return len(self.items) == 0\n",
        "\n",
        "    def push(self, item):\n",
        "        self.items.insert(0, item)\n",
        "\n",
        "    def pop(self):\n",
        "        if not self.is_empty():\n",
        "            return self.items.pop(0)\n",
        "        else:\n",
        "            raise IndexError(\"Pop from empty stack\")\n",
        "\n",
        "class Deque:\n",
        "    def __init__(self):\n",
        "        self.items = []\n",
        "\n",
        "    def is_empty(self):\n",
        "        return len(self.items) == 0\n",
        "\n",
        "    def add_front(self, item):\n",
        "        self.items.insert(0, item)\n",
        "\n",
        "    def add_rear(self, item):\n",
        "        self.items.append(item)\n",
        "\n",
        "    def remove_front(self):\n",
        "        if not self.is_empty():\n",
        "            return self.items.pop(0)\n",
        "        else:\n",
        "            raise IndexError(\"Remove from empty deque\")\n",
        "\n",
        "    def find_index(self, item):\n",
        "        try:\n",
        "            return self.items.index(item)\n",
        "        except ValueError:\n",
        "            return -1\n",
        "\n",
        "    def get_item(self, index):\n",
        "        if -len(self.items) <= index < len(self.items):\n",
        "            return self.items[index]\n",
        "        else:\n",
        "            raise IndexError(\"Index out of range\")\n",
        "\n",
        "    def remove_rear(self):\n",
        "        if not self.is_empty():\n",
        "            return self.items.pop()\n",
        "        else:\n",
        "            raise IndexError(\"Remove from empty deque\")\n"
      ],
      "metadata": {
        "id": "Q-0E47mCkdWR"
      },
      "id": "Q-0E47mCkdWR",
      "execution_count": null,
      "outputs": []
    },
    {
      "cell_type": "markdown",
      "id": "5d7edb08",
      "metadata": {
        "scrolled": true,
        "id": "5d7edb08"
      },
      "source": [
        "### Задание №1\n",
        "Отсортировать строки файла, содержащие названия книг, в алфавитном порядке с использованием двух деков."
      ]
    },
    {
      "cell_type": "code",
      "execution_count": null,
      "id": "17702ade",
      "metadata": {
        "id": "17702ade",
        "colab": {
          "base_uri": "https://localhost:8080/"
        },
        "outputId": "23a72039-62ad-4640-ce11-567839d64510"
      },
      "outputs": [
        {
          "output_type": "stream",
          "name": "stdout",
          "text": [
            "['1984 - George Orwell', 'To Kill a Mockingbird - Harper Lee', 'The Great Gatsby - F. Scott Fitzgerald', 'One Hundred Years of Solitude - Gabriel Garcia Marquez', 'Brave New World - Aldous Huxley', 'The Catcher in the Rye - J.D. Salinger', 'Pride and Prejudice - Jane Austen', 'The Lord of the Rings - J.R.R. Tolkien', 'The Hobbit - J.R.R. Tolkien', 'Fahrenheit 451 - Ray Bradbury', 'Moby-Dick - Herman Melville', 'War and Peace - Leo Tolstoy', 'Crime and Punishment - Fyodor Dostoevsky', 'The Brothers Karamazov - Fyodor Dostoevsky', 'The Odyssey - Homer', 'The Iliad - Homer', 'Ulysses - James Joyce', 'Don Quixote - Miguel de Cervantes', 'The Divine Comedy - Dante Alighieri', 'The Alchemist - Paulo Coelho']\n",
            "Строки успешно отсортированы и сохранены в файл 'sorted_books.txt'.\n"
          ]
        }
      ],
      "source": [
        "with open('books.txt', 'r', encoding='utf-8') as file:\n",
        "    lines = file.readlines()\n",
        "\n",
        "lines = [line.strip() for line in lines]\n",
        "print(lines)\n",
        "\n",
        "deque1 = Deque()\n",
        "deque2 = Deque()\n",
        "\n",
        "for line in lines:\n",
        "    deque1.add_rear(line)\n",
        "\n",
        "while not deque1.is_empty():\n",
        "    current = deque1.remove_front()\n",
        "\n",
        "    while not deque2.is_empty() and deque2.get_item(-1) > current:\n",
        "        deque1.add_front(deque2.remove_rear())\n",
        "\n",
        "    deque2.add_rear(current)\n",
        "\n",
        "while not deque2.is_empty():\n",
        "    deque1.add_rear(deque2.remove_front())\n",
        "\n",
        "sorted_lines = []\n",
        "while not deque1.is_empty():\n",
        "    sorted_lines.append(deque1.remove_front())\n",
        "\n",
        "with open('sorted_books.txt', 'w', encoding='utf-8') as file:\n",
        "    for line in sorted_lines:\n",
        "        file.write(line + \"\\n\")\n",
        "\n",
        "print(\"Строки успешно отсортированы и сохранены в файл 'sorted_books.txt'.\")\n"
      ]
    },
    {
      "cell_type": "markdown",
      "id": "49fbd2a0",
      "metadata": {
        "id": "49fbd2a0"
      },
      "source": [
        "### Задание №2\n",
        "Дек содержит последовательность символов для шифровки сообщений. Дан текстовый файл, содержащий зашифрованное сообщение. Пользуясь деком, расшифровать текст.\n",
        "Известно, что при шифровке каждый символ сообщения заменялся следующим за ним в деке по часовой стрелке через один."
      ]
    },
    {
      "cell_type": "code",
      "execution_count": null,
      "id": "81cab7a8",
      "metadata": {
        "id": "81cab7a8",
        "colab": {
          "base_uri": "https://localhost:8080/"
        },
        "outputId": "65f381d2-36ee-4c62-9b08-e40f785d7a40"
      },
      "outputs": [
        {
          "output_type": "stream",
          "name": "stdout",
          "text": [
            "HELLO\n"
          ]
        }
      ],
      "source": [
        "deque = Deque()\n",
        "symbols = \"ABCDEFGHIJKLMNOPQRSTUVWXYZabcdefghijklmnopqrstuvwxyz0123456789 .,!?\"\n",
        "for symbol in symbols:\n",
        "    deque.add_rear(symbol)\n",
        "\n",
        "with open('crypted.txt', 'r', encoding='utf-8') as file:\n",
        "    encrypted_message = file.read().strip()\n",
        "\n",
        "dencrypted_message = ''\n",
        "for i in range(len(encrypted_message)):\n",
        "  idx = deque.find_index(encrypted_message[i])\n",
        "  dencrypted_message += deque.items[idx - 2]\n",
        "\n",
        "print(dencrypted_message)\n"
      ]
    },
    {
      "cell_type": "markdown",
      "id": "c0894f47",
      "metadata": {
        "id": "c0894f47"
      },
      "source": [
        "### Задание №3\n",
        "Даны три стержня и n дисков различного размера. Диски можно надевать на стержни, образуя из них башни. Перенести n дисков со стержня А на стержень С, сохранив их первоначальный порядок. При переносе дисков необходимо соблюдать следующие правила:\n",
        "- на каждом шаге со стержня на стержень переносить только один диск;\n",
        "- диск нельзя помещать на диск меньшего размера;\n",
        "- для промежуточного хранения можно использовать стержень В.\n",
        "Реализовать алгоритм, используя три стека вместо стержней А, В, С. Информация о дисках хранится в исходном файле."
      ]
    },
    {
      "cell_type": "code",
      "source": [
        "def hanoi(n, source, target, auxiliary):\n",
        "    if n == 1:\n",
        "        disk = source.pop()\n",
        "        target.push(disk)\n",
        "        print(f\"Перемещаем {disk} и получаем {source.items} {target.items}\")\n",
        "\n",
        "    else:\n",
        "        hanoi(n - 1, source, auxiliary, target)\n",
        "\n",
        "        disk = source.pop()\n",
        "        target.push(disk)\n",
        "        print(f\"Перемещаем {disk} и получаем {source.items} {target.items}\")\n",
        "\n",
        "        hanoi(n - 1, auxiliary, target, source)\n",
        "\n",
        "n = int(input('Введите количество дисков: '))\n",
        "disks = []\n",
        "for i in range(1,n + 1):\n",
        "    disks.append(i)\n",
        "print(\"Исходные диски:\", disks)\n",
        "\n",
        "stack_A = Stack()\n",
        "stack_B = Stack()\n",
        "stack_C = Stack()\n",
        "\n",
        "for disk in reversed(disks):\n",
        "    stack_A.push(disk)\n",
        "\n",
        "hanoi(n, stack_A, stack_C, stack_B)\n",
        "\n",
        "print(\"Стержень C после перемещения:\", stack_C.items)"
      ],
      "metadata": {
        "colab": {
          "base_uri": "https://localhost:8080/"
        },
        "id": "Q-yTKgHRI07E",
        "outputId": "92839276-f423-4fc6-ca6d-258a106c2806"
      },
      "id": "Q-yTKgHRI07E",
      "execution_count": null,
      "outputs": [
        {
          "output_type": "stream",
          "name": "stdout",
          "text": [
            "Введите количество дисков: 5\n",
            "Исходные диски: [1, 2, 3, 4, 5]\n",
            "Перемещаем 1 и получаем [2, 3, 4, 5] [1]\n",
            "Перемещаем 2 и получаем [3, 4, 5] [2]\n",
            "Перемещаем 1 и получаем [] [1, 2]\n",
            "Перемещаем 3 и получаем [4, 5] [3]\n",
            "Перемещаем 1 и получаем [2] [1, 4, 5]\n",
            "Перемещаем 2 и получаем [] [2, 3]\n",
            "Перемещаем 1 и получаем [4, 5] [1, 2, 3]\n",
            "Перемещаем 4 и получаем [5] [4]\n",
            "Перемещаем 1 и получаем [2, 3] [1, 4]\n",
            "Перемещаем 2 и получаем [3] [2, 5]\n",
            "Перемещаем 1 и получаем [4] [1, 2, 5]\n",
            "Перемещаем 3 и получаем [] [3, 4]\n",
            "Перемещаем 1 и получаем [2, 5] [1]\n",
            "Перемещаем 2 и получаем [5] [2, 3, 4]\n",
            "Перемещаем 1 и получаем [] [1, 2, 3, 4]\n",
            "Перемещаем 5 и получаем [] [5]\n",
            "Перемещаем 1 и получаем [2, 3, 4] [1]\n",
            "Перемещаем 2 и получаем [3, 4] [2, 5]\n",
            "Перемещаем 1 и получаем [] [1, 2, 5]\n",
            "Перемещаем 3 и получаем [4] [3]\n",
            "Перемещаем 1 и получаем [2, 5] [1, 4]\n",
            "Перемещаем 2 и получаем [5] [2, 3]\n",
            "Перемещаем 1 и получаем [4] [1, 2, 3]\n",
            "Перемещаем 4 и получаем [] [4, 5]\n",
            "Перемещаем 1 и получаем [2, 3] [1, 4, 5]\n",
            "Перемещаем 2 и получаем [3] [2]\n",
            "Перемещаем 1 и получаем [4, 5] [1, 2]\n",
            "Перемещаем 3 и получаем [] [3, 4, 5]\n",
            "Перемещаем 1 и получаем [2] [1]\n",
            "Перемещаем 2 и получаем [] [2, 3, 4, 5]\n",
            "Перемещаем 1 и получаем [] [1, 2, 3, 4, 5]\n",
            "Стержень C после перемещения: [1, 2, 3, 4, 5]\n"
          ]
        }
      ]
    },
    {
      "cell_type": "markdown",
      "id": "e5b0be17",
      "metadata": {
        "id": "e5b0be17"
      },
      "source": [
        "### Задание №4\n",
        "Дан текстовый файл с программой на алгоритмическом языке. За один просмотр файла проверить баланс круглых скобок в тексте, используя стек."
      ]
    },
    {
      "cell_type": "code",
      "execution_count": null,
      "id": "5b1df60a",
      "metadata": {
        "id": "5b1df60a",
        "colab": {
          "base_uri": "https://localhost:8080/"
        },
        "outputId": "b64481b3-c970-4f70-e2a6-b96afc3ae576"
      },
      "outputs": [
        {
          "output_type": "stream",
          "name": "stdout",
          "text": [
            "Чет все не ок\n"
          ]
        }
      ],
      "source": [
        "def check_balance(filename):\n",
        "  stack = Stack()\n",
        "  with open(filename, 'r', encoding='utf-8') as file:\n",
        "    for line in file:\n",
        "        for char in line:\n",
        "            if char == '(':\n",
        "                stack.push(char)\n",
        "\n",
        "            elif char == ')':\n",
        "                if stack.is_empty:\n",
        "                  return False\n",
        "                stack.pop()\n",
        "\n",
        "    return len(stack.items) == 0\n",
        "\n",
        "\n",
        "if check_balance('algo.txt'):\n",
        "    print('Все ок')\n",
        "else:\n",
        "  print('Чет все не ок')\n",
        "\n"
      ]
    },
    {
      "cell_type": "markdown",
      "id": "c44cdd6b",
      "metadata": {
        "id": "c44cdd6b"
      },
      "source": [
        "### Задание №5\n",
        "Дан текстовый файл с программой на алгоритмическом языке. За один просмотр файла проверить баланс квадратных скобок в тексте, используя дек."
      ]
    },
    {
      "cell_type": "code",
      "execution_count": null,
      "id": "36b8f400",
      "metadata": {
        "id": "36b8f400",
        "colab": {
          "base_uri": "https://localhost:8080/"
        },
        "outputId": "52b52606-a90b-4244-8ad2-2b8192dabac3"
      },
      "outputs": [
        {
          "output_type": "stream",
          "name": "stdout",
          "text": [
            "Все ок\n"
          ]
        }
      ],
      "source": [
        "def check_balance_sq(filename):\n",
        "  deque = Deque()\n",
        "  with open(filename, 'r', encoding='utf-8') as file:\n",
        "    for line in file:\n",
        "        for char in line:\n",
        "            if char == '[':\n",
        "                deque.add_front(char)\n",
        "            elif char == ']':\n",
        "                if deque.is_empty():\n",
        "                  return False\n",
        "                deque.remove_rear()\n",
        "    return len(deque.items) == 0\n",
        "\n",
        "if check_balance_sq('algo.txt'):\n",
        "    print('Все ок')\n",
        "else:\n",
        "  print('Чет все не ок')\n"
      ]
    },
    {
      "cell_type": "markdown",
      "id": "59d13dc7",
      "metadata": {
        "id": "59d13dc7"
      },
      "source": [
        "### Задание №6\n",
        "Дан файл из символов. Используя стек, за один просмотр файла напечатать сначала все цифры, затем все буквы, и, наконец, все остальные символы, сохраняя исходный порядок в каждой группе символов."
      ]
    },
    {
      "cell_type": "code",
      "execution_count": null,
      "id": "297e36c2",
      "metadata": {
        "id": "297e36c2",
        "colab": {
          "base_uri": "https://localhost:8080/"
        },
        "outputId": "c557c428-0519-44f4-a142-c4bcd970e9ee"
      },
      "outputs": [
        {
          "output_type": "stream",
          "name": "stdout",
          "text": [
            "['1', '2', '3', '3', '4', '1', '2', '3', '1']\n",
            "['a', 's', 'd', 'a', 's', 'd', 'f', 'd', 'a', 's', 'd']\n",
            "['=', '=', '+', '+']\n"
          ]
        }
      ],
      "source": [
        "stack = Stack()\n",
        "\n",
        "with open('char.txt', \"r\", encoding=\"utf-8\") as file:\n",
        "    for line in file:\n",
        "        for char in line:\n",
        "            if char.isdigit():\n",
        "                stack.push((char, \"digit\"))\n",
        "            elif char.isalpha():\n",
        "                stack.push((char, \"letter\"))\n",
        "            else:\n",
        "                stack.push((char, \"other\"))\n",
        "\n",
        "digits = [char for char, category in stack.items if category == \"digit\"]\n",
        "letters = [char for char, category in stack.items if category == \"letter\"]\n",
        "others = [char for char, category in stack.items if category == \"other\"]\n",
        "\n",
        "print(digits[::-1])\n",
        "print(letters[::-1])\n",
        "print(others[::-1])\n"
      ]
    },
    {
      "cell_type": "markdown",
      "id": "973f68bd",
      "metadata": {
        "id": "973f68bd"
      },
      "source": [
        "### Задание №7\n",
        "Дан файл из целых чисел. Используя дек, за один просмотр файла напечатать сначала все отрицательные числа, затем все положительные числа, сохраняя исходный порядок в каждой группе."
      ]
    },
    {
      "cell_type": "code",
      "execution_count": null,
      "id": "c56fad66",
      "metadata": {
        "id": "c56fad66",
        "colab": {
          "base_uri": "https://localhost:8080/"
        },
        "outputId": "a49c4d0b-26f4-4911-f455-ed070ceff955"
      },
      "outputs": [
        {
          "output_type": "stream",
          "name": "stdout",
          "text": [
            "3\n",
            "12\n",
            "23\n",
            "23\n",
            "123\n",
            "3\n",
            "2\n",
            "1\n",
            "-3\n",
            "-4\n",
            "-21\n",
            "-31\n",
            "-4\n",
            "-3\n"
          ]
        }
      ],
      "source": [
        "deque = Deque()\n",
        "\n",
        "with open('nums.txt', \"r\", encoding=\"utf-8\") as file:\n",
        "    for line in file:\n",
        "        numbers = line.split(' ')\n",
        "        for number in numbers:\n",
        "          if int(number) < 0:\n",
        "              deque.add_front(number)  # Отрицательные числа добавляем в начало\n",
        "          else:\n",
        "              deque.add_rear(number)  # Положительные числа добавляем в конец\n",
        "while not deque.is_empty():\n",
        "    print(deque.remove_rear())  # Извлекаем и печатаем числа с начала дека\n"
      ]
    },
    {
      "cell_type": "markdown",
      "id": "b9228191",
      "metadata": {
        "id": "b9228191"
      },
      "source": [
        "### Задание №8\n",
        "Дан текстовый файл. Используя стек, сформировать новый текстовый файл, содержащий строки исходного файла, записанные в обратном порядке: первая строка становится последней, вторая – предпоследней и т.д."
      ]
    },
    {
      "cell_type": "code",
      "execution_count": null,
      "id": "981fbdfe",
      "metadata": {
        "id": "981fbdfe"
      },
      "outputs": [],
      "source": [
        "def reverse_file_lines(input_filename, output_filename):\n",
        "    stack = Stack()\n",
        "\n",
        "    with open(input_filename, 'r', encoding='utf-8') as file:\n",
        "        for line in file:\n",
        "            stack.push(line.strip())\n",
        "\n",
        "    with open(output_filename, 'w', encoding='utf-8') as file:\n",
        "        while not stack.is_empty():\n",
        "            file.write(stack.pop() + '\\n')\n",
        "\n",
        "input_filename = 'input.txt'\n",
        "output_filename = 'output.txt'\n",
        "reverse_file_lines(input_filename, output_filename)"
      ]
    },
    {
      "cell_type": "markdown",
      "id": "rental-jerusalem",
      "metadata": {
        "id": "rental-jerusalem"
      },
      "source": [
        "### Вывод\n"
      ]
    },
    {
      "cell_type": "markdown",
      "id": "0c2b8899",
      "metadata": {
        "id": "0c2b8899"
      },
      "source": []
    }
  ],
  "metadata": {
    "kernelspec": {
      "display_name": "Python 3 (ipykernel)",
      "language": "python",
      "name": "python3"
    },
    "language_info": {
      "codemirror_mode": {
        "name": "ipython",
        "version": 3
      },
      "file_extension": ".py",
      "mimetype": "text/x-python",
      "name": "python",
      "nbconvert_exporter": "python",
      "pygments_lexer": "ipython3",
      "version": "3.10.2"
    },
    "colab": {
      "provenance": []
    }
  },
  "nbformat": 4,
  "nbformat_minor": 5
}